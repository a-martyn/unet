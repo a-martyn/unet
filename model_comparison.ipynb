{
 "cells": [
  {
   "cell_type": "code",
   "execution_count": 30,
   "metadata": {},
   "outputs": [],
   "source": [
    "%reload_ext autoreload\n",
    "%autoreload 2\n",
    "%matplotlib inline\n",
    "\n",
    "import matplotlib.pyplot as plt\n",
    "import pandas as pd\n",
    "import seaborn as sns\n",
    "from tensorflow.keras import backend\n",
    "\n",
    "from model.data_loader import *\n",
    "from model.unet_baseline import *\n",
    "from model.unet_zhixuhao import *"
   ]
  },
  {
   "cell_type": "markdown",
   "metadata": {},
   "source": [
    "## Data loader"
   ]
  },
  {
   "cell_type": "code",
   "execution_count": 31,
   "metadata": {},
   "outputs": [],
   "source": [
    "train_pth = 'data/membrane/train'\n",
    "\n",
    "data_gen_args = dict(rotation_range=0.2,\n",
    "                     width_shift_range=0.05,\n",
    "                     height_shift_range=0.05,\n",
    "                     shear_range=0.05,\n",
    "                     zoom_range=0.05,\n",
    "                     horizontal_flip=True,\n",
    "                     fill_mode='nearest')\n",
    "\n",
    "# why is batch size 2? paper says bs=1\n",
    "train_gen = trainGenerator(2, train_pth, 'image', 'label', data_gen_args, save_to_dir=None)"
   ]
  },
  {
   "cell_type": "markdown",
   "metadata": {},
   "source": [
    "# Fast test\n",
    "\n",
    "## Compare baseline implementation to zhixuhao's model\n",
    "\n",
    "It is observed that the final accuracy of both models varies in the range 80-96% when trained for 5 epochs with 2000 iterations. How can we quickly compare the performance of these two models?\n",
    "\n",
    "Here's a quick comparison of models by training each for 50 iterations from scratch 30 times. We compare our baseline implementation to [zhixuhao's model](https://github.com/zhixuhao/unet) and find no significant difference."
   ]
  },
  {
   "cell_type": "code",
   "execution_count": 81,
   "metadata": {
    "scrolled": true
   },
   "outputs": [],
   "source": [
    "def fast_test(model_fn, iterations, steps_per_iter, epochs=1, lr=1e-4):\n",
    "    hists = []\n",
    "    for i in range(iterations):\n",
    "        model = model_fn()\n",
    "        model.compile(optimizer = Adam(lr=lr), loss='binary_crossentropy', metrics=['accuracy'])\n",
    "        history = model.fit_generator(train_gen, steps_per_epoch=steps_per_iter, epochs=1)\n",
    "        hists.append(history.history)\n",
    "#         r = {k: r[k][-1] for k in r}\n",
    "#         df = df.append(r, ignore_index=True)\n",
    "        backend.clear_session()\n",
    "    return hists\n",
    "\n",
    "def hists2df(hists:list):\n",
    "    df = pd.DataFrame(columns=hists[0].keys())\n",
    "    for h in hists:\n",
    "        r = {k: h[k][-1] for k in h}\n",
    "        df = df.append(r, ignore_index=True)\n",
    "    return df"
   ]
  },
  {
   "cell_type": "code",
   "execution_count": 18,
   "metadata": {
    "scrolled": true
   },
   "outputs": [
    {
     "name": "stdout",
     "output_type": "stream",
     "text": [
      "Epoch 1/1\n",
      "50/50 [==============================] - 12s 232ms/step - loss: 0.8322 - acc: 0.8077\n",
      "Epoch 1/1\n",
      "50/50 [==============================] - 12s 232ms/step - loss: 0.7661 - acc: 0.8168\n",
      "Epoch 1/1\n",
      "50/50 [==============================] - 12s 235ms/step - loss: 0.8373 - acc: 0.8045\n",
      "Epoch 1/1\n",
      "50/50 [==============================] - 11s 227ms/step - loss: 1.3986 - acc: 0.7481\n",
      "Epoch 1/1\n",
      "50/50 [==============================] - 12s 232ms/step - loss: 1.0304 - acc: 0.7696\n",
      "Epoch 1/1\n",
      "50/50 [==============================] - 12s 233ms/step - loss: 1.0034 - acc: 0.7668\n",
      "Epoch 1/1\n",
      "50/50 [==============================] - 12s 235ms/step - loss: 0.8602 - acc: 0.7770\n",
      "Epoch 1/1\n",
      "50/50 [==============================] - 12s 234ms/step - loss: 0.9069 - acc: 0.7997\n",
      "Epoch 1/1\n",
      "50/50 [==============================] - 11s 229ms/step - loss: 1.3861 - acc: 0.7665\n",
      "Epoch 1/1\n",
      "50/50 [==============================] - 12s 234ms/step - loss: 0.7629 - acc: 0.8170\n",
      "Epoch 1/1\n",
      "50/50 [==============================] - 11s 228ms/step - loss: 1.4395 - acc: 0.7570\n",
      "Epoch 1/1\n",
      "50/50 [==============================] - 12s 234ms/step - loss: 0.8742 - acc: 0.7891\n",
      "Epoch 1/1\n",
      "50/50 [==============================] - 12s 232ms/step - loss: 0.9677 - acc: 0.7700\n",
      "Epoch 1/1\n",
      "50/50 [==============================] - 12s 230ms/step - loss: 1.3945 - acc: 0.7700\n",
      "Epoch 1/1\n",
      "50/50 [==============================] - 11s 229ms/step - loss: 1.3854 - acc: 0.7695\n",
      "Epoch 1/1\n",
      "50/50 [==============================] - 12s 231ms/step - loss: 0.8722 - acc: 0.7740\n",
      "Epoch 1/1\n",
      "50/50 [==============================] - 12s 231ms/step - loss: 1.4004 - acc: 0.7494\n",
      "Epoch 1/1\n",
      "50/50 [==============================] - 12s 231ms/step - loss: 0.8225 - acc: 0.7994\n",
      "Epoch 1/1\n",
      "50/50 [==============================] - 12s 233ms/step - loss: 1.3850 - acc: 0.7701\n",
      "Epoch 1/1\n",
      "50/50 [==============================] - 11s 229ms/step - loss: 1.3968 - acc: 0.7688\n",
      "Epoch 1/1\n",
      "50/50 [==============================] - 12s 239ms/step - loss: 1.4006 - acc: 0.7446\n",
      "Epoch 1/1\n",
      "50/50 [==============================] - 12s 236ms/step - loss: 1.3972 - acc: 0.7698\n",
      "Epoch 1/1\n",
      "50/50 [==============================] - 12s 236ms/step - loss: 0.9465 - acc: 0.7705\n",
      "Epoch 1/1\n",
      "50/50 [==============================] - 12s 235ms/step - loss: 0.8318 - acc: 0.7972\n",
      "Epoch 1/1\n",
      "50/50 [==============================] - 12s 235ms/step - loss: 1.3850 - acc: 0.7726\n",
      "Epoch 1/1\n",
      "50/50 [==============================] - 12s 233ms/step - loss: 0.8651 - acc: 0.7771\n",
      "Epoch 1/1\n",
      "50/50 [==============================] - 12s 234ms/step - loss: 1.4088 - acc: 0.7675\n",
      "Epoch 1/1\n",
      "50/50 [==============================] - 12s 235ms/step - loss: 0.9614 - acc: 0.7822\n",
      "Epoch 1/1\n",
      "50/50 [==============================] - 12s 233ms/step - loss: 0.8276 - acc: 0.8137\n",
      "Epoch 1/1\n",
      "50/50 [==============================] - 12s 236ms/step - loss: 0.8812 - acc: 0.7783\n"
     ]
    }
   ],
   "source": [
    "hists_zhixuhao = fast_test(unet_zhixuhao, 30, 50, epochs=1, lr=1e-4)\n",
    "df_zhixuhao = hists2df(hists_zhixuhao)"
   ]
  },
  {
   "cell_type": "code",
   "execution_count": 34,
   "metadata": {
    "scrolled": true
   },
   "outputs": [
    {
     "name": "stdout",
     "output_type": "stream",
     "text": [
      "Epoch 1/1\n",
      "Found 30 images belonging to 1 classes.\n",
      "Found 30 images belonging to 1 classes.\n",
      "50/50 [==============================] - 12s 241ms/step - loss: 1.0472 - acc: 0.7676\n",
      "Epoch 1/1\n",
      "50/50 [==============================] - 11s 230ms/step - loss: 0.9031 - acc: 0.7792\n",
      "Epoch 1/1\n",
      "50/50 [==============================] - 11s 227ms/step - loss: 1.3849 - acc: 0.7728\n",
      "Epoch 1/1\n",
      "50/50 [==============================] - 11s 228ms/step - loss: 0.8677 - acc: 0.7781\n",
      "Epoch 1/1\n",
      "50/50 [==============================] - 12s 233ms/step - loss: 0.9722 - acc: 0.7671\n",
      "Epoch 1/1\n",
      "50/50 [==============================] - 12s 233ms/step - loss: 1.3902 - acc: 0.7641\n",
      "Epoch 1/1\n",
      "50/50 [==============================] - 12s 238ms/step - loss: 0.9063 - acc: 0.7700\n",
      "Epoch 1/1\n",
      "50/50 [==============================] - 12s 242ms/step - loss: 1.4092 - acc: 0.7530\n",
      "Epoch 1/1\n",
      "50/50 [==============================] - 11s 230ms/step - loss: 0.9981 - acc: 0.7813\n",
      "Epoch 1/1\n",
      "50/50 [==============================] - 12s 230ms/step - loss: 1.2755 - acc: 0.7687\n",
      "Epoch 1/1\n",
      "50/50 [==============================] - 12s 234ms/step - loss: 0.8638 - acc: 0.7726\n",
      "Epoch 1/1\n",
      "50/50 [==============================] - 12s 231ms/step - loss: 0.8547 - acc: 0.7815\n",
      "Epoch 1/1\n",
      "50/50 [==============================] - 12s 235ms/step - loss: 0.8964 - acc: 0.7708\n",
      "Epoch 1/1\n",
      "50/50 [==============================] - 12s 235ms/step - loss: 0.8263 - acc: 0.7938\n",
      "Epoch 1/1\n",
      "50/50 [==============================] - 12s 230ms/step - loss: 0.8258 - acc: 0.7994\n",
      "Epoch 1/1\n",
      "50/50 [==============================] - 12s 236ms/step - loss: 0.8474 - acc: 0.7861\n",
      "Epoch 1/1\n",
      "50/50 [==============================] - 12s 231ms/step - loss: 0.8256 - acc: 0.8080\n",
      "Epoch 1/1\n",
      "50/50 [==============================] - 12s 236ms/step - loss: 0.9135 - acc: 0.7892\n",
      "Epoch 1/1\n",
      "50/50 [==============================] - 12s 230ms/step - loss: 0.9271 - acc: 0.7670\n",
      "Epoch 1/1\n",
      "50/50 [==============================] - 12s 236ms/step - loss: 1.0532 - acc: 0.7705\n",
      "Epoch 1/1\n",
      "50/50 [==============================] - 12s 241ms/step - loss: 0.8958 - acc: 0.7733\n",
      "Epoch 1/1\n",
      "50/50 [==============================] - 12s 239ms/step - loss: 0.8030 - acc: 0.8064\n",
      "Epoch 1/1\n",
      "50/50 [==============================] - 12s 235ms/step - loss: 0.8411 - acc: 0.8044\n",
      "Epoch 1/1\n",
      "50/50 [==============================] - 12s 237ms/step - loss: 0.8748 - acc: 0.7721\n",
      "Epoch 1/1\n",
      "50/50 [==============================] - 11s 230ms/step - loss: 0.9112 - acc: 0.7822\n",
      "Epoch 1/1\n",
      "50/50 [==============================] - 12s 235ms/step - loss: 1.3856 - acc: 0.7706\n",
      "Epoch 1/1\n",
      "50/50 [==============================] - 12s 232ms/step - loss: 0.9129 - acc: 0.7727\n",
      "Epoch 1/1\n",
      "50/50 [==============================] - 12s 236ms/step - loss: 0.8147 - acc: 0.8050\n",
      "Epoch 1/1\n",
      "50/50 [==============================] - 12s 236ms/step - loss: 0.8902 - acc: 0.7694\n",
      "Epoch 1/1\n",
      "50/50 [==============================] - 12s 233ms/step - loss: 1.0668 - acc: 0.7817\n"
     ]
    }
   ],
   "source": [
    "hists_baseline = fast_test(unet_baseline, 30, 50, epochs=1, lr=1e-4)\n",
    "df_baseline = hists2df(hists_baseline)"
   ]
  },
  {
   "cell_type": "code",
   "execution_count": 69,
   "metadata": {},
   "outputs": [
    {
     "data": {
      "image/png": "[encoded data removed]",
      "text/plain": [
       "<Figure size 720x360 with 2 Axes>"
      ]
     },
     "metadata": {
      "needs_background": "light"
     },
     "output_type": "display_data"
    }
   ],
   "source": [
    "def stats(df):\n",
    "    mean = df['acc'].mean()\n",
    "    upper = mean + df['acc'].std()\n",
    "    lower = mean - df['acc'].std()\n",
    "    return mean, upper, lower\n",
    "\n",
    "f, (ax1, ax2) = plt.subplots(1, 2, sharey=True, figsize=(10, 5))\n",
    "\n",
    "mean, upper, lower = stats(df_zhixuhao)\n",
    "ax1.set_title('zhixuhao model')\n",
    "ax1.plot(list(df_zhixuhao.index), list(df_zhixuhao['acc']))\n",
    "ax1.axhline(y=mean, color='r')\n",
    "ax1.axhline(y=upper, linestyle='--', color='g')\n",
    "ax1.axhline(y=lower, linestyle='--', color='g')\n",
    "ax1.set_xlabel('iteration')\n",
    "ax1.set_ylabel('accuracy')\n",
    "\n",
    "mean, upper, lower = stats(df_baseline)\n",
    "ax2.set_title('baseline model')\n",
    "ax2.plot(list(df_baseline.index), list(df_zhixuhao['acc']))\n",
    "ax2.axhline(y=mean, color='r')\n",
    "ax2.axhline(y=upper, linestyle='--', color='g')\n",
    "ax2.axhline(y=lower, linestyle='--', color='g')\n",
    "ax2.set_xlabel('iteration');\n"
   ]
  },
  {
   "cell_type": "markdown",
   "metadata": {},
   "source": [
    "# Slow test"
   ]
  },
  {
   "cell_type": "code",
   "execution_count": null,
   "metadata": {},
   "outputs": [
    {
     "name": "stdout",
     "output_type": "stream",
     "text": [
      "Epoch 1/1\n",
      "1000/1000 [==============================] - 187s 187ms/step - loss: 1.3618 - acc: 0.7804\n",
      "Epoch 1/1\n",
      "1000/1000 [==============================] - 189s 189ms/step - loss: 0.5108 - acc: 0.8934\n",
      "Epoch 1/1\n",
      "1000/1000 [==============================] - 189s 189ms/step - loss: 0.5411 - acc: 0.8715\n",
      "Epoch 1/1\n",
      "1000/1000 [==============================] - 189s 189ms/step - loss: 0.7130 - acc: 0.8497\n",
      "Epoch 1/1\n",
      "1000/1000 [==============================] - 189s 189ms/step - loss: 0.4790 - acc: 0.8942\n",
      "Epoch 1/1\n",
      "1000/1000 [==============================] - 190s 190ms/step - loss: 0.5763 - acc: 0.8883\n",
      "Epoch 1/1\n",
      "1000/1000 [==============================] - 189s 189ms/step - loss: 0.5646 - acc: 0.8913\n",
      "Epoch 1/1\n",
      "1000/1000 [==============================] - 189s 189ms/step - loss: 0.5737 - acc: 0.8881\n",
      "Epoch 1/1\n",
      "1000/1000 [==============================] - 189s 189ms/step - loss: 0.5536 - acc: 0.8961\n",
      "Epoch 1/1\n",
      "1000/1000 [==============================] - 189s 189ms/step - loss: 0.5516 - acc: 0.8968\n",
      "Epoch 1/1\n",
      "1000/1000 [==============================] - 189s 189ms/step - loss: 0.5497 - acc: 0.8820\n",
      "Epoch 1/1\n",
      " 592/1000 [================>.............] - ETA: 1:17 - loss: 0.6051 - acc: 0.8783"
     ]
    }
   ],
   "source": [
    "hists_zhixuhao_slow = fast_test(unet_zhixuhao, 10, 1000, epochs=1, lr=1e-4)\n",
    "hists_baseline_slow = fast_test(unet_baseline, 10, 1000, epochs=1, lr=1e-4)"
   ]
  },
  {
   "cell_type": "code",
   "execution_count": null,
   "metadata": {},
   "outputs": [],
   "source": []
  }
 ],
 "metadata": {
  "kernelspec": {
   "display_name": "Python 3",
   "language": "python",
   "name": "python3"
  },
  "language_info": {
   "codemirror_mode": {
    "name": "ipython",
    "version": 3
   },
   "file_extension": ".py",
   "mimetype": "text/x-python",
   "name": "python",
   "nbconvert_exporter": "python",
   "pygments_lexer": "ipython3",
   "version": "3.6.8"
  }
 },
 "nbformat": 4,
 "nbformat_minor": 2
}
