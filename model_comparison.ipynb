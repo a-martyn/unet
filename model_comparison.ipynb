{
 "cells": [
  {
   "cell_type": "code",
   "execution_count": 41,
   "metadata": {},
   "outputs": [],
   "source": [
    "%reload_ext autoreload\n",
    "%autoreload 2\n",
    "%matplotlib inline"
   ]
  },
  {
   "cell_type": "code",
   "execution_count": 42,
   "metadata": {},
   "outputs": [],
   "source": [
    "import matplotlib.pyplot as plt\n",
    "import pandas as pd\n",
    "import seaborn as sns\n",
    "from tensorflow.keras import backend\n",
    "\n",
    "from model.data_loader import *\n",
    "from model.data_loader_old import *\n",
    "from model.unet_baseline import *\n",
    "from model.unet_zhixuhao import *\n",
    "from model.unet_ternaus import *"
   ]
  },
  {
   "cell_type": "code",
   "execution_count": 43,
   "metadata": {},
   "outputs": [],
   "source": [
    "train_pth = 'data/membrane/train'\n",
    "test_pth = 'data/membrane/test'\n",
    "results_pth = 'results/'"
   ]
  },
  {
   "cell_type": "code",
   "execution_count": 64,
   "metadata": {
    "scrolled": true
   },
   "outputs": [],
   "source": [
    "def fast_test(model_fn, train_loader, test_loader, iterations, train_steps, val_steps, epochs=1, lr=1e-4):\n",
    "    hists = []\n",
    "    for i in range(iterations):\n",
    "        model = model_fn(input_size=(256, 256, 1))\n",
    "        model.compile(optimizer = Adam(lr=lr), loss='binary_crossentropy', metrics=['accuracy'])\n",
    "        history = model.fit_generator(train_loader, steps_per_epoch=train_steps, epochs=1,\n",
    "                                      validation_data=test_loader, validation_steps=val_steps)\n",
    "        hists.append(history.history)\n",
    "        backend.clear_session()\n",
    "    return hists\n",
    "\n",
    "def hists2df(hists:list):\n",
    "    df = pd.DataFrame(columns=hists[0].keys())\n",
    "    for h in hists:\n",
    "        r = {k: h[k][-1] for k in h}\n",
    "        df = df.append(r, ignore_index=True)\n",
    "    return df"
   ]
  },
  {
   "cell_type": "markdown",
   "metadata": {},
   "source": [
    "## Data loader"
   ]
  },
  {
   "cell_type": "code",
   "execution_count": 65,
   "metadata": {},
   "outputs": [],
   "source": [
    "train_loader = loader(train_pth, input_generator_train, target_generator_train)\n",
    "test_loader = loader(test_pth, input_generator_test, target_generator_test)"
   ]
  },
  {
   "cell_type": "code",
   "execution_count": 67,
   "metadata": {},
   "outputs": [
    {
     "name": "stdout",
     "output_type": "stream",
     "text": [
      "Epoch 1/1\n",
      "50/50 [==============================] - 16s 315ms/step - loss: 0.9708 - acc: 0.7583 - val_loss: 0.8132 - val_acc: 0.7984\n",
      "Epoch 1/1\n",
      "48/50 [===========================>..] - ETA: 0s - loss: 1.3856 - acc: 0.7548"
     ]
    },
    {
     "ename": "KeyboardInterrupt",
     "evalue": "",
     "output_type": "error",
     "traceback": [
      "\u001b[0;31m---------------------------------------------------------------------------\u001b[0m",
      "\u001b[0;31mKeyboardInterrupt\u001b[0m                         Traceback (most recent call last)",
      "\u001b[0;32m<ipython-input-67-236267a56723>\u001b[0m in \u001b[0;36m<module>\u001b[0;34m\u001b[0m\n\u001b[0;32m----> 1\u001b[0;31m \u001b[0mhists_zhixuhao\u001b[0m \u001b[0;34m=\u001b[0m \u001b[0mfast_test\u001b[0m\u001b[0;34m(\u001b[0m\u001b[0munet\u001b[0m\u001b[0;34m,\u001b[0m \u001b[0mtrain_loader\u001b[0m\u001b[0;34m,\u001b[0m \u001b[0mtest_loader\u001b[0m\u001b[0;34m,\u001b[0m \u001b[0;36m5\u001b[0m\u001b[0;34m,\u001b[0m \u001b[0;36m50\u001b[0m\u001b[0;34m,\u001b[0m \u001b[0;36m100\u001b[0m\u001b[0;34m,\u001b[0m \u001b[0mepochs\u001b[0m\u001b[0;34m=\u001b[0m\u001b[0;36m1\u001b[0m\u001b[0;34m,\u001b[0m \u001b[0mlr\u001b[0m\u001b[0;34m=\u001b[0m\u001b[0;36m1e-4\u001b[0m\u001b[0;34m)\u001b[0m\u001b[0;34m\u001b[0m\u001b[0;34m\u001b[0m\u001b[0m\n\u001b[0m\u001b[1;32m      2\u001b[0m \u001b[0mdf_zhixuhao\u001b[0m \u001b[0;34m=\u001b[0m \u001b[0mhists2df\u001b[0m\u001b[0;34m(\u001b[0m\u001b[0mhists_zhixuhao\u001b[0m\u001b[0;34m)\u001b[0m\u001b[0;34m\u001b[0m\u001b[0;34m\u001b[0m\u001b[0m\n",
      "\u001b[0;32m<ipython-input-64-e97f87400b78>\u001b[0m in \u001b[0;36mfast_test\u001b[0;34m(model_fn, train_loader, test_loader, iterations, train_steps, val_steps, epochs, lr)\u001b[0m\n\u001b[1;32m      5\u001b[0m         \u001b[0mmodel\u001b[0m\u001b[0;34m.\u001b[0m\u001b[0mcompile\u001b[0m\u001b[0;34m(\u001b[0m\u001b[0moptimizer\u001b[0m \u001b[0;34m=\u001b[0m \u001b[0mAdam\u001b[0m\u001b[0;34m(\u001b[0m\u001b[0mlr\u001b[0m\u001b[0;34m=\u001b[0m\u001b[0mlr\u001b[0m\u001b[0;34m)\u001b[0m\u001b[0;34m,\u001b[0m \u001b[0mloss\u001b[0m\u001b[0;34m=\u001b[0m\u001b[0;34m'binary_crossentropy'\u001b[0m\u001b[0;34m,\u001b[0m \u001b[0mmetrics\u001b[0m\u001b[0;34m=\u001b[0m\u001b[0;34m[\u001b[0m\u001b[0;34m'accuracy'\u001b[0m\u001b[0;34m]\u001b[0m\u001b[0;34m)\u001b[0m\u001b[0;34m\u001b[0m\u001b[0;34m\u001b[0m\u001b[0m\n\u001b[1;32m      6\u001b[0m         history = model.fit_generator(train_loader, steps_per_epoch=train_steps, epochs=1,\n\u001b[0;32m----> 7\u001b[0;31m                                       validation_data=test_loader, validation_steps=val_steps)\n\u001b[0m\u001b[1;32m      8\u001b[0m         \u001b[0mhists\u001b[0m\u001b[0;34m.\u001b[0m\u001b[0mappend\u001b[0m\u001b[0;34m(\u001b[0m\u001b[0mhistory\u001b[0m\u001b[0;34m.\u001b[0m\u001b[0mhistory\u001b[0m\u001b[0;34m)\u001b[0m\u001b[0;34m\u001b[0m\u001b[0;34m\u001b[0m\u001b[0m\n\u001b[1;32m      9\u001b[0m \u001b[0;31m#         r = {k: r[k][-1] for k in r}\u001b[0m\u001b[0;34m\u001b[0m\u001b[0;34m\u001b[0m\u001b[0;34m\u001b[0m\u001b[0m\n",
      "\u001b[0;32m~/anaconda3/envs/unet/lib/python3.6/site-packages/tensorflow/python/keras/engine/training.py\u001b[0m in \u001b[0;36mfit_generator\u001b[0;34m(self, generator, steps_per_epoch, epochs, verbose, callbacks, validation_data, validation_steps, class_weight, max_queue_size, workers, use_multiprocessing, shuffle, initial_epoch)\u001b[0m\n\u001b[1;32m   2175\u001b[0m         \u001b[0muse_multiprocessing\u001b[0m\u001b[0;34m=\u001b[0m\u001b[0muse_multiprocessing\u001b[0m\u001b[0;34m,\u001b[0m\u001b[0;34m\u001b[0m\u001b[0;34m\u001b[0m\u001b[0m\n\u001b[1;32m   2176\u001b[0m         \u001b[0mshuffle\u001b[0m\u001b[0;34m=\u001b[0m\u001b[0mshuffle\u001b[0m\u001b[0;34m,\u001b[0m\u001b[0;34m\u001b[0m\u001b[0;34m\u001b[0m\u001b[0m\n\u001b[0;32m-> 2177\u001b[0;31m         initial_epoch=initial_epoch)\n\u001b[0m\u001b[1;32m   2178\u001b[0m \u001b[0;34m\u001b[0m\u001b[0m\n\u001b[1;32m   2179\u001b[0m   def evaluate_generator(self,\n",
      "\u001b[0;32m~/anaconda3/envs/unet/lib/python3.6/site-packages/tensorflow/python/keras/engine/training_generator.py\u001b[0m in \u001b[0;36mfit_generator\u001b[0;34m(model, generator, steps_per_epoch, epochs, verbose, callbacks, validation_data, validation_steps, class_weight, max_queue_size, workers, use_multiprocessing, shuffle, initial_epoch)\u001b[0m\n\u001b[1;32m    174\u001b[0m \u001b[0;34m\u001b[0m\u001b[0m\n\u001b[1;32m    175\u001b[0m         outs = model.train_on_batch(\n\u001b[0;32m--> 176\u001b[0;31m             x, y, sample_weight=sample_weight, class_weight=class_weight)\n\u001b[0m\u001b[1;32m    177\u001b[0m \u001b[0;34m\u001b[0m\u001b[0m\n\u001b[1;32m    178\u001b[0m         \u001b[0;32mif\u001b[0m \u001b[0;32mnot\u001b[0m \u001b[0misinstance\u001b[0m\u001b[0;34m(\u001b[0m\u001b[0mouts\u001b[0m\u001b[0;34m,\u001b[0m \u001b[0mlist\u001b[0m\u001b[0;34m)\u001b[0m\u001b[0;34m:\u001b[0m\u001b[0;34m\u001b[0m\u001b[0;34m\u001b[0m\u001b[0m\n",
      "\u001b[0;32m~/anaconda3/envs/unet/lib/python3.6/site-packages/tensorflow/python/keras/engine/training.py\u001b[0m in \u001b[0;36mtrain_on_batch\u001b[0;34m(self, x, y, sample_weight, class_weight)\u001b[0m\n\u001b[1;32m   1938\u001b[0m \u001b[0;34m\u001b[0m\u001b[0m\n\u001b[1;32m   1939\u001b[0m       \u001b[0mself\u001b[0m\u001b[0;34m.\u001b[0m\u001b[0m_make_train_function\u001b[0m\u001b[0;34m(\u001b[0m\u001b[0;34m)\u001b[0m\u001b[0;34m\u001b[0m\u001b[0;34m\u001b[0m\u001b[0m\n\u001b[0;32m-> 1940\u001b[0;31m       \u001b[0moutputs\u001b[0m \u001b[0;34m=\u001b[0m \u001b[0mself\u001b[0m\u001b[0;34m.\u001b[0m\u001b[0mtrain_function\u001b[0m\u001b[0;34m(\u001b[0m\u001b[0mins\u001b[0m\u001b[0;34m)\u001b[0m\u001b[0;34m\u001b[0m\u001b[0;34m\u001b[0m\u001b[0m\n\u001b[0m\u001b[1;32m   1941\u001b[0m \u001b[0;34m\u001b[0m\u001b[0m\n\u001b[1;32m   1942\u001b[0m     \u001b[0;32mif\u001b[0m \u001b[0mlen\u001b[0m\u001b[0;34m(\u001b[0m\u001b[0moutputs\u001b[0m\u001b[0;34m)\u001b[0m \u001b[0;34m==\u001b[0m \u001b[0;36m1\u001b[0m\u001b[0;34m:\u001b[0m\u001b[0;34m\u001b[0m\u001b[0;34m\u001b[0m\u001b[0m\n",
      "\u001b[0;32m~/anaconda3/envs/unet/lib/python3.6/site-packages/tensorflow/python/keras/backend.py\u001b[0m in \u001b[0;36m__call__\u001b[0;34m(self, inputs)\u001b[0m\n\u001b[1;32m   2984\u001b[0m \u001b[0;34m\u001b[0m\u001b[0m\n\u001b[1;32m   2985\u001b[0m     fetched = self._callable_fn(*array_vals,\n\u001b[0;32m-> 2986\u001b[0;31m                                 run_metadata=self.run_metadata)\n\u001b[0m\u001b[1;32m   2987\u001b[0m     \u001b[0mself\u001b[0m\u001b[0;34m.\u001b[0m\u001b[0m_call_fetch_callbacks\u001b[0m\u001b[0;34m(\u001b[0m\u001b[0mfetched\u001b[0m\u001b[0;34m[\u001b[0m\u001b[0;34m-\u001b[0m\u001b[0mlen\u001b[0m\u001b[0;34m(\u001b[0m\u001b[0mself\u001b[0m\u001b[0;34m.\u001b[0m\u001b[0m_fetches\u001b[0m\u001b[0;34m)\u001b[0m\u001b[0;34m:\u001b[0m\u001b[0;34m]\u001b[0m\u001b[0;34m)\u001b[0m\u001b[0;34m\u001b[0m\u001b[0;34m\u001b[0m\u001b[0m\n\u001b[1;32m   2988\u001b[0m     \u001b[0;32mreturn\u001b[0m \u001b[0mfetched\u001b[0m\u001b[0;34m[\u001b[0m\u001b[0;34m:\u001b[0m\u001b[0mlen\u001b[0m\u001b[0;34m(\u001b[0m\u001b[0mself\u001b[0m\u001b[0;34m.\u001b[0m\u001b[0moutputs\u001b[0m\u001b[0;34m)\u001b[0m\u001b[0;34m]\u001b[0m\u001b[0;34m\u001b[0m\u001b[0;34m\u001b[0m\u001b[0m\n",
      "\u001b[0;32m~/anaconda3/envs/unet/lib/python3.6/site-packages/tensorflow/python/client/session.py\u001b[0m in \u001b[0;36m__call__\u001b[0;34m(self, *args, **kwargs)\u001b[0m\n\u001b[1;32m   1437\u001b[0m           ret = tf_session.TF_SessionRunCallable(\n\u001b[1;32m   1438\u001b[0m               \u001b[0mself\u001b[0m\u001b[0;34m.\u001b[0m\u001b[0m_session\u001b[0m\u001b[0;34m.\u001b[0m\u001b[0m_session\u001b[0m\u001b[0;34m,\u001b[0m \u001b[0mself\u001b[0m\u001b[0;34m.\u001b[0m\u001b[0m_handle\u001b[0m\u001b[0;34m,\u001b[0m \u001b[0margs\u001b[0m\u001b[0;34m,\u001b[0m \u001b[0mstatus\u001b[0m\u001b[0;34m,\u001b[0m\u001b[0;34m\u001b[0m\u001b[0;34m\u001b[0m\u001b[0m\n\u001b[0;32m-> 1439\u001b[0;31m               run_metadata_ptr)\n\u001b[0m\u001b[1;32m   1440\u001b[0m         \u001b[0;32mif\u001b[0m \u001b[0mrun_metadata\u001b[0m\u001b[0;34m:\u001b[0m\u001b[0;34m\u001b[0m\u001b[0;34m\u001b[0m\u001b[0m\n\u001b[1;32m   1441\u001b[0m           \u001b[0mproto_data\u001b[0m \u001b[0;34m=\u001b[0m \u001b[0mtf_session\u001b[0m\u001b[0;34m.\u001b[0m\u001b[0mTF_GetBuffer\u001b[0m\u001b[0;34m(\u001b[0m\u001b[0mrun_metadata_ptr\u001b[0m\u001b[0;34m)\u001b[0m\u001b[0;34m\u001b[0m\u001b[0;34m\u001b[0m\u001b[0m\n",
      "\u001b[0;31mKeyboardInterrupt\u001b[0m: "
     ]
    }
   ],
   "source": [
    "hists_zhixuhao = fast_test(unet, train_loader, test_loader, 5, 50, 100, epochs=1, lr=1e-4)\n",
    "df_zhixuhao = hists2df(hists_zhixuhao)"
   ]
  },
  {
   "cell_type": "code",
   "execution_count": 63,
   "metadata": {},
   "outputs": [
    {
     "data": {
      "text/html": [
       "<div>\n",
       "<style scoped>\n",
       "    .dataframe tbody tr th:only-of-type {\n",
       "        vertical-align: middle;\n",
       "    }\n",
       "\n",
       "    .dataframe tbody tr th {\n",
       "        vertical-align: top;\n",
       "    }\n",
       "\n",
       "    .dataframe thead th {\n",
       "        text-align: right;\n",
       "    }\n",
       "</style>\n",
       "<table border=\"1\" class=\"dataframe\">\n",
       "  <thead>\n",
       "    <tr style=\"text-align: right;\">\n",
       "      <th></th>\n",
       "      <th>val_loss</th>\n",
       "      <th>val_acc</th>\n",
       "      <th>loss</th>\n",
       "      <th>acc</th>\n",
       "    </tr>\n",
       "  </thead>\n",
       "  <tbody>\n",
       "    <tr>\n",
       "      <th>0</th>\n",
       "      <td>0.675608</td>\n",
       "      <td>0.864123</td>\n",
       "      <td>0.901470</td>\n",
       "      <td>0.802952</td>\n",
       "    </tr>\n",
       "    <tr>\n",
       "      <th>1</th>\n",
       "      <td>0.663937</td>\n",
       "      <td>0.798072</td>\n",
       "      <td>0.903146</td>\n",
       "      <td>0.765860</td>\n",
       "    </tr>\n",
       "    <tr>\n",
       "      <th>2</th>\n",
       "      <td>1.383410</td>\n",
       "      <td>0.797002</td>\n",
       "      <td>1.395992</td>\n",
       "      <td>0.763659</td>\n",
       "    </tr>\n",
       "    <tr>\n",
       "      <th>3</th>\n",
       "      <td>0.655923</td>\n",
       "      <td>0.845466</td>\n",
       "      <td>0.914337</td>\n",
       "      <td>0.777305</td>\n",
       "    </tr>\n",
       "    <tr>\n",
       "      <th>4</th>\n",
       "      <td>0.688071</td>\n",
       "      <td>0.796446</td>\n",
       "      <td>0.911334</td>\n",
       "      <td>0.767824</td>\n",
       "    </tr>\n",
       "  </tbody>\n",
       "</table>\n",
       "</div>"
      ],
      "text/plain": [
       "   val_loss   val_acc      loss       acc\n",
       "0  0.675608  0.864123  0.901470  0.802952\n",
       "1  0.663937  0.798072  0.903146  0.765860\n",
       "2  1.383410  0.797002  1.395992  0.763659\n",
       "3  0.655923  0.845466  0.914337  0.777305\n",
       "4  0.688071  0.796446  0.911334  0.767824"
      ]
     },
     "execution_count": 63,
     "metadata": {},
     "output_type": "execute_result"
    }
   ],
   "source": [
    "df_zhixuhao"
   ]
  },
  {
   "cell_type": "markdown",
   "metadata": {},
   "source": [
    "# Fast test\n",
    "\n",
    "## Compare baseline implementation to zhixuhao's model\n",
    "\n",
    "It is observed that the final accuracy of both models varies in the range 80-96% when trained for 5 epochs with 2000 iterations. How can we quickly compare the performance of these two models?\n",
    "\n",
    "Here's a quick comparison of models by training each for 50 iterations from scratch 30 times. We compare our baseline implementation to [zhixuhao's model](https://github.com/zhixuhao/unet) and find no significant difference."
   ]
  },
  {
   "cell_type": "code",
   "execution_count": 18,
   "metadata": {
    "scrolled": true
   },
   "outputs": [
    {
     "name": "stdout",
     "output_type": "stream",
     "text": [
      "Epoch 1/1\n",
      "50/50 [==============================] - 12s 232ms/step - loss: 0.8322 - acc: 0.8077\n",
      "Epoch 1/1\n",
      "50/50 [==============================] - 12s 232ms/step - loss: 0.7661 - acc: 0.8168\n",
      "Epoch 1/1\n",
      "50/50 [==============================] - 12s 235ms/step - loss: 0.8373 - acc: 0.8045\n",
      "Epoch 1/1\n",
      "50/50 [==============================] - 11s 227ms/step - loss: 1.3986 - acc: 0.7481\n",
      "Epoch 1/1\n",
      "50/50 [==============================] - 12s 232ms/step - loss: 1.0304 - acc: 0.7696\n",
      "Epoch 1/1\n",
      "50/50 [==============================] - 12s 233ms/step - loss: 1.0034 - acc: 0.7668\n",
      "Epoch 1/1\n",
      "50/50 [==============================] - 12s 235ms/step - loss: 0.8602 - acc: 0.7770\n",
      "Epoch 1/1\n",
      "50/50 [==============================] - 12s 234ms/step - loss: 0.9069 - acc: 0.7997\n",
      "Epoch 1/1\n",
      "50/50 [==============================] - 11s 229ms/step - loss: 1.3861 - acc: 0.7665\n",
      "Epoch 1/1\n",
      "50/50 [==============================] - 12s 234ms/step - loss: 0.7629 - acc: 0.8170\n",
      "Epoch 1/1\n",
      "50/50 [==============================] - 11s 228ms/step - loss: 1.4395 - acc: 0.7570\n",
      "Epoch 1/1\n",
      "50/50 [==============================] - 12s 234ms/step - loss: 0.8742 - acc: 0.7891\n",
      "Epoch 1/1\n",
      "50/50 [==============================] - 12s 232ms/step - loss: 0.9677 - acc: 0.7700\n",
      "Epoch 1/1\n",
      "50/50 [==============================] - 12s 230ms/step - loss: 1.3945 - acc: 0.7700\n",
      "Epoch 1/1\n",
      "50/50 [==============================] - 11s 229ms/step - loss: 1.3854 - acc: 0.7695\n",
      "Epoch 1/1\n",
      "50/50 [==============================] - 12s 231ms/step - loss: 0.8722 - acc: 0.7740\n",
      "Epoch 1/1\n",
      "50/50 [==============================] - 12s 231ms/step - loss: 1.4004 - acc: 0.7494\n",
      "Epoch 1/1\n",
      "50/50 [==============================] - 12s 231ms/step - loss: 0.8225 - acc: 0.7994\n",
      "Epoch 1/1\n",
      "50/50 [==============================] - 12s 233ms/step - loss: 1.3850 - acc: 0.7701\n",
      "Epoch 1/1\n",
      "50/50 [==============================] - 11s 229ms/step - loss: 1.3968 - acc: 0.7688\n",
      "Epoch 1/1\n",
      "50/50 [==============================] - 12s 239ms/step - loss: 1.4006 - acc: 0.7446\n",
      "Epoch 1/1\n",
      "50/50 [==============================] - 12s 236ms/step - loss: 1.3972 - acc: 0.7698\n",
      "Epoch 1/1\n",
      "50/50 [==============================] - 12s 236ms/step - loss: 0.9465 - acc: 0.7705\n",
      "Epoch 1/1\n",
      "50/50 [==============================] - 12s 235ms/step - loss: 0.8318 - acc: 0.7972\n",
      "Epoch 1/1\n",
      "50/50 [==============================] - 12s 235ms/step - loss: 1.3850 - acc: 0.7726\n",
      "Epoch 1/1\n",
      "50/50 [==============================] - 12s 233ms/step - loss: 0.8651 - acc: 0.7771\n",
      "Epoch 1/1\n",
      "50/50 [==============================] - 12s 234ms/step - loss: 1.4088 - acc: 0.7675\n",
      "Epoch 1/1\n",
      "50/50 [==============================] - 12s 235ms/step - loss: 0.9614 - acc: 0.7822\n",
      "Epoch 1/1\n",
      "50/50 [==============================] - 12s 233ms/step - loss: 0.8276 - acc: 0.8137\n",
      "Epoch 1/1\n",
      "50/50 [==============================] - 12s 236ms/step - loss: 0.8812 - acc: 0.7783\n"
     ]
    }
   ],
   "source": [
    "hists_zhixuhao = fast_test(unet_zhixuhao, 30, 50, epochs=1, lr=1e-4)\n",
    "df_zhixuhao = hists2df(hists_zhixuhao)"
   ]
  },
  {
   "cell_type": "code",
   "execution_count": 34,
   "metadata": {
    "scrolled": true
   },
   "outputs": [
    {
     "name": "stdout",
     "output_type": "stream",
     "text": [
      "Epoch 1/1\n",
      "Found 30 images belonging to 1 classes.\n",
      "Found 30 images belonging to 1 classes.\n",
      "50/50 [==============================] - 12s 241ms/step - loss: 1.0472 - acc: 0.7676\n",
      "Epoch 1/1\n",
      "50/50 [==============================] - 11s 230ms/step - loss: 0.9031 - acc: 0.7792\n",
      "Epoch 1/1\n",
      "50/50 [==============================] - 11s 227ms/step - loss: 1.3849 - acc: 0.7728\n",
      "Epoch 1/1\n",
      "50/50 [==============================] - 11s 228ms/step - loss: 0.8677 - acc: 0.7781\n",
      "Epoch 1/1\n",
      "50/50 [==============================] - 12s 233ms/step - loss: 0.9722 - acc: 0.7671\n",
      "Epoch 1/1\n",
      "50/50 [==============================] - 12s 233ms/step - loss: 1.3902 - acc: 0.7641\n",
      "Epoch 1/1\n",
      "50/50 [==============================] - 12s 238ms/step - loss: 0.9063 - acc: 0.7700\n",
      "Epoch 1/1\n",
      "50/50 [==============================] - 12s 242ms/step - loss: 1.4092 - acc: 0.7530\n",
      "Epoch 1/1\n",
      "50/50 [==============================] - 11s 230ms/step - loss: 0.9981 - acc: 0.7813\n",
      "Epoch 1/1\n",
      "50/50 [==============================] - 12s 230ms/step - loss: 1.2755 - acc: 0.7687\n",
      "Epoch 1/1\n",
      "50/50 [==============================] - 12s 234ms/step - loss: 0.8638 - acc: 0.7726\n",
      "Epoch 1/1\n",
      "50/50 [==============================] - 12s 231ms/step - loss: 0.8547 - acc: 0.7815\n",
      "Epoch 1/1\n",
      "50/50 [==============================] - 12s 235ms/step - loss: 0.8964 - acc: 0.7708\n",
      "Epoch 1/1\n",
      "50/50 [==============================] - 12s 235ms/step - loss: 0.8263 - acc: 0.7938\n",
      "Epoch 1/1\n",
      "50/50 [==============================] - 12s 230ms/step - loss: 0.8258 - acc: 0.7994\n",
      "Epoch 1/1\n",
      "50/50 [==============================] - 12s 236ms/step - loss: 0.8474 - acc: 0.7861\n",
      "Epoch 1/1\n",
      "50/50 [==============================] - 12s 231ms/step - loss: 0.8256 - acc: 0.8080\n",
      "Epoch 1/1\n",
      "50/50 [==============================] - 12s 236ms/step - loss: 0.9135 - acc: 0.7892\n",
      "Epoch 1/1\n",
      "50/50 [==============================] - 12s 230ms/step - loss: 0.9271 - acc: 0.7670\n",
      "Epoch 1/1\n",
      "50/50 [==============================] - 12s 236ms/step - loss: 1.0532 - acc: 0.7705\n",
      "Epoch 1/1\n",
      "50/50 [==============================] - 12s 241ms/step - loss: 0.8958 - acc: 0.7733\n",
      "Epoch 1/1\n",
      "50/50 [==============================] - 12s 239ms/step - loss: 0.8030 - acc: 0.8064\n",
      "Epoch 1/1\n",
      "50/50 [==============================] - 12s 235ms/step - loss: 0.8411 - acc: 0.8044\n",
      "Epoch 1/1\n",
      "50/50 [==============================] - 12s 237ms/step - loss: 0.8748 - acc: 0.7721\n",
      "Epoch 1/1\n",
      "50/50 [==============================] - 11s 230ms/step - loss: 0.9112 - acc: 0.7822\n",
      "Epoch 1/1\n",
      "50/50 [==============================] - 12s 235ms/step - loss: 1.3856 - acc: 0.7706\n",
      "Epoch 1/1\n",
      "50/50 [==============================] - 12s 232ms/step - loss: 0.9129 - acc: 0.7727\n",
      "Epoch 1/1\n",
      "50/50 [==============================] - 12s 236ms/step - loss: 0.8147 - acc: 0.8050\n",
      "Epoch 1/1\n",
      "50/50 [==============================] - 12s 236ms/step - loss: 0.8902 - acc: 0.7694\n",
      "Epoch 1/1\n",
      "50/50 [==============================] - 12s 233ms/step - loss: 1.0668 - acc: 0.7817\n"
     ]
    }
   ],
   "source": [
    "hists_baseline = fast_test(unet, 30, 50, epochs=1, lr=1e-4)\n",
    "df_baseline = hists2df(hists_baseline)"
   ]
  },
  {
   "cell_type": "code",
   "execution_count": 130,
   "metadata": {},
   "outputs": [],
   "source": [
    "def stats(df):\n",
    "    mean = df['acc'].mean()\n",
    "    upper = mean + df['acc'].std()\n",
    "    lower = mean - df['acc'].std()\n",
    "    return mean, upper, lower"
   ]
  },
  {
   "cell_type": "code",
   "execution_count": 69,
   "metadata": {},
   "outputs": [
    {
     "data": {
      "image/png": "[encoded data removed]",
      "text/plain": [
       "<Figure size 720x360 with 2 Axes>"
      ]
     },
     "metadata": {
      "needs_background": "light"
     },
     "output_type": "display_data"
    }
   ],
   "source": [
    "f, (ax1, ax2) = plt.subplots(1, 2, sharey=True, figsize=(10, 5))\n",
    "\n",
    "mean, upper, lower = stats(df_zhixuhao)\n",
    "ax1.set_title('zhixuhao model')\n",
    "ax1.plot(list(df_zhixuhao.index), list(df_zhixuhao['acc']))\n",
    "ax1.axhline(y=mean, color='r')\n",
    "ax1.axhline(y=upper, linestyle='--', color='g')\n",
    "ax1.axhline(y=lower, linestyle='--', color='g')\n",
    "ax1.set_xlabel('iteration')\n",
    "ax1.set_ylabel('accuracy')\n",
    "\n",
    "mean, upper, lower = stats(df_baseline)\n",
    "ax2.set_title('baseline model')\n",
    "ax2.plot(list(df_baseline.index), list(df_zhixuhao['acc']))\n",
    "ax2.axhline(y=mean, color='r')\n",
    "ax2.axhline(y=upper, linestyle='--', color='g')\n",
    "ax2.axhline(y=lower, linestyle='--', color='g')\n",
    "ax2.set_xlabel('iteration');\n"
   ]
  },
  {
   "cell_type": "code",
   "execution_count": 129,
   "metadata": {
    "scrolled": true
   },
   "outputs": [
    {
     "name": "stdout",
     "output_type": "stream",
     "text": [
      "Epoch 1/1\n",
      "50/50 [==============================] - 15s 297ms/step - loss: 0.7050 - acc: 0.8593\n",
      "Epoch 1/1\n",
      "50/50 [==============================] - 15s 291ms/step - loss: 0.6396 - acc: 0.8626\n",
      "Epoch 1/1\n",
      "50/50 [==============================] - 14s 283ms/step - loss: 0.8894 - acc: 0.8131\n",
      "Epoch 1/1\n",
      "50/50 [==============================] - 14s 283ms/step - loss: 1.0406 - acc: 0.8396\n",
      "Epoch 1/1\n",
      "50/50 [==============================] - 14s 282ms/step - loss: 0.7748 - acc: 0.8505\n",
      "Epoch 1/1\n",
      "50/50 [==============================] - 14s 279ms/step - loss: 1.1600 - acc: 0.8080\n",
      "Epoch 1/1\n",
      "50/50 [==============================] - 14s 283ms/step - loss: 1.2755 - acc: 0.7870\n",
      "Epoch 1/1\n",
      "50/50 [==============================] - 14s 289ms/step - loss: 0.9349 - acc: 0.8293\n",
      "Epoch 1/1\n",
      "50/50 [==============================] - 14s 284ms/step - loss: 0.7109 - acc: 0.8554\n",
      "Epoch 1/1\n",
      "50/50 [==============================] - 14s 286ms/step - loss: 0.9228 - acc: 0.8220\n",
      "Epoch 1/1\n",
      "50/50 [==============================] - 14s 283ms/step - loss: 0.8187 - acc: 0.8413\n",
      "Epoch 1/1\n",
      "50/50 [==============================] - 14s 284ms/step - loss: 1.0191 - acc: 0.8284\n",
      "Epoch 1/1\n",
      "50/50 [==============================] - 14s 287ms/step - loss: 0.9521 - acc: 0.8304\n",
      "Epoch 1/1\n",
      "50/50 [==============================] - 14s 289ms/step - loss: 0.7964 - acc: 0.8277\n",
      "Epoch 1/1\n",
      "50/50 [==============================] - 14s 283ms/step - loss: 0.9770 - acc: 0.8135\n",
      "Epoch 1/1\n",
      "50/50 [==============================] - 14s 281ms/step - loss: 0.8972 - acc: 0.8248\n",
      "Epoch 1/1\n",
      "50/50 [==============================] - 14s 285ms/step - loss: 0.6635 - acc: 0.8614\n",
      "Epoch 1/1\n",
      "50/50 [==============================] - 14s 284ms/step - loss: 0.7216 - acc: 0.8353\n",
      "Epoch 1/1\n",
      "50/50 [==============================] - 14s 288ms/step - loss: 0.8432 - acc: 0.8241\n",
      "Epoch 1/1\n",
      "50/50 [==============================] - 14s 281ms/step - loss: 1.1086 - acc: 0.8250\n",
      "Epoch 1/1\n",
      "50/50 [==============================] - 14s 282ms/step - loss: 0.6959 - acc: 0.8570\n",
      "Epoch 1/1\n",
      "50/50 [==============================] - 14s 282ms/step - loss: 1.1741 - acc: 0.8131\n",
      "Epoch 1/1\n",
      "50/50 [==============================] - 14s 289ms/step - loss: 1.0516 - acc: 0.8139\n",
      "Epoch 1/1\n",
      "50/50 [==============================] - 14s 280ms/step - loss: 0.8465 - acc: 0.8396\n",
      "Epoch 1/1\n",
      "50/50 [==============================] - 14s 282ms/step - loss: 0.7860 - acc: 0.8419\n",
      "Epoch 1/1\n",
      "50/50 [==============================] - 14s 279ms/step - loss: 0.9571 - acc: 0.8309\n",
      "Epoch 1/1\n",
      "50/50 [==============================] - 14s 284ms/step - loss: 0.8441 - acc: 0.8435 9s - loss: 1.128 - ETA: 3s - loss: 0.9243 - a\n",
      "Epoch 1/1\n",
      "50/50 [==============================] - 14s 284ms/step - loss: 0.8381 - acc: 0.8309\n",
      "Epoch 1/1\n",
      "50/50 [==============================] - 14s 279ms/step - loss: 1.0545 - acc: 0.8246\n",
      "Epoch 1/1\n",
      "50/50 [==============================] - 14s 283ms/step - loss: 0.6103 - acc: 0.8723\n"
     ]
    }
   ],
   "source": [
    "hists_ternaus = fast_test(ternausNet16, 30, 50, epochs=1, lr=1e-4)\n",
    "df_ternaus = hists2df(hists_ternaus)"
   ]
  },
  {
   "cell_type": "code",
   "execution_count": 131,
   "metadata": {},
   "outputs": [
    {
     "data": {
      "text/plain": [
       "Text(0, 0.5, 'accuracy')"
      ]
     },
     "execution_count": 131,
     "metadata": {},
     "output_type": "execute_result"
    },
    {
     "data": {
      "image/png": "[encoded data removed]",
      "text/plain": [
       "<Figure size 720x360 with 2 Axes>"
      ]
     },
     "metadata": {
      "needs_background": "light"
     },
     "output_type": "display_data"
    }
   ],
   "source": [
    "f, (ax1, ax2) = plt.subplots(1, 2, sharey=True, figsize=(10, 5))\n",
    "\n",
    "mean, upper, lower = stats(df_ternaus)\n",
    "ax1.set_title('ternaus model')\n",
    "ax1.plot(list(df_ternaus.index), list(df_ternaus['acc']))\n",
    "ax1.axhline(y=mean, color='r')\n",
    "ax1.axhline(y=upper, linestyle='--', color='g')\n",
    "ax1.axhline(y=lower, linestyle='--', color='g')\n",
    "ax1.set_xlabel('iteration')\n",
    "ax1.set_ylabel('accuracy')"
   ]
  },
  {
   "cell_type": "markdown",
   "metadata": {},
   "source": [
    "# Slow test"
   ]
  },
  {
   "cell_type": "code",
   "execution_count": 85,
   "metadata": {
    "scrolled": true
   },
   "outputs": [
    {
     "name": "stdout",
     "output_type": "stream",
     "text": [
      "Epoch 1/1\n",
      "1000/1000 [==============================] - 187s 187ms/step - loss: 1.3618 - acc: 0.7804\n",
      "Epoch 1/1\n",
      "1000/1000 [==============================] - 189s 189ms/step - loss: 0.5108 - acc: 0.8934\n",
      "Epoch 1/1\n",
      "1000/1000 [==============================] - 189s 189ms/step - loss: 0.5411 - acc: 0.8715\n",
      "Epoch 1/1\n",
      "1000/1000 [==============================] - 189s 189ms/step - loss: 0.7130 - acc: 0.8497\n",
      "Epoch 1/1\n",
      "1000/1000 [==============================] - 189s 189ms/step - loss: 0.4790 - acc: 0.8942\n",
      "Epoch 1/1\n",
      "1000/1000 [==============================] - 190s 190ms/step - loss: 0.5763 - acc: 0.8883\n",
      "Epoch 1/1\n",
      "1000/1000 [==============================] - 189s 189ms/step - loss: 0.5646 - acc: 0.8913\n",
      "Epoch 1/1\n",
      "1000/1000 [==============================] - 189s 189ms/step - loss: 0.5737 - acc: 0.8881\n",
      "Epoch 1/1\n",
      "1000/1000 [==============================] - 189s 189ms/step - loss: 0.5536 - acc: 0.8961\n",
      "Epoch 1/1\n",
      "1000/1000 [==============================] - 189s 189ms/step - loss: 0.5516 - acc: 0.8968\n",
      "Epoch 1/1\n",
      "1000/1000 [==============================] - 189s 189ms/step - loss: 0.5497 - acc: 0.8820\n",
      "Epoch 1/1\n",
      "1000/1000 [==============================] - 189s 189ms/step - loss: 0.5618 - acc: 0.8927\n",
      "Epoch 1/1\n",
      "1000/1000 [==============================] - 189s 189ms/step - loss: 0.5209 - acc: 0.8787\n",
      "Epoch 1/1\n",
      "1000/1000 [==============================] - 190s 190ms/step - loss: 0.5802 - acc: 0.8867\n",
      "Epoch 1/1\n",
      "1000/1000 [==============================] - 190s 190ms/step - loss: 0.5811 - acc: 0.8872\n",
      "Epoch 1/1\n",
      "1000/1000 [==============================] - 189s 189ms/step - loss: 0.5046 - acc: 0.8866\n",
      "Epoch 1/1\n",
      "1000/1000 [==============================] - 189s 189ms/step - loss: 0.5635 - acc: 0.8915\n",
      "Epoch 1/1\n",
      "1000/1000 [==============================] - 190s 190ms/step - loss: 0.4630 - acc: 0.8967\n",
      "Epoch 1/1\n",
      "1000/1000 [==============================] - 190s 190ms/step - loss: 0.4753 - acc: 0.8957\n",
      "Epoch 1/1\n",
      "1000/1000 [==============================] - 190s 190ms/step - loss: 0.5582 - acc: 0.8943\n"
     ]
    }
   ],
   "source": [
    "hists_zhixuhao_slow = fast_test(unet_zhixuhao, 10, 1000, epochs=1, lr=1e-4)\n",
    "hists_baseline_slow = fast_test(unet, 10, 1000, epochs=1, lr=1e-4)"
   ]
  },
  {
   "cell_type": "code",
   "execution_count": null,
   "metadata": {},
   "outputs": [],
   "source": [
    "df_zhixuhao_slow = hists2df(hists_zhixuhao_slow)\n",
    "df_baseline_slow = hists2df(hists_baseline_slow)"
   ]
  },
  {
   "cell_type": "code",
   "execution_count": 88,
   "metadata": {},
   "outputs": [
    {
     "data": {
      "image/png": "[encoded data removed]",
      "text/plain": [
       "<Figure size 720x360 with 2 Axes>"
      ]
     },
     "metadata": {
      "needs_background": "light"
     },
     "output_type": "display_data"
    }
   ],
   "source": [
    "def stats(df):\n",
    "    mean = df['acc'].mean()\n",
    "    upper = mean + df['acc'].std()\n",
    "    lower = mean - df['acc'].std()\n",
    "    return mean, upper, lower\n",
    "\n",
    "f, (ax1, ax2) = plt.subplots(1, 2, sharey=True, figsize=(10, 5))\n",
    "\n",
    "mean, upper, lower = stats(df_zhixuhao_slow)\n",
    "ax1.set_title('zhixuhao model')\n",
    "ax1.plot(list(df_zhixuhao_slow.index), list(df_zhixuhao_slow['acc']))\n",
    "ax1.axhline(y=mean, color='r')\n",
    "ax1.axhline(y=upper, linestyle='--', color='g')\n",
    "ax1.axhline(y=lower, linestyle='--', color='g')\n",
    "ax1.set_xlabel('iteration')\n",
    "ax1.set_ylabel('accuracy')\n",
    "\n",
    "mean, upper, lower = stats(df_baseline_slow)\n",
    "ax2.set_title('baseline model')\n",
    "ax2.plot(list(df_baseline_slow.index), list(df_baseline_slow['acc']))\n",
    "ax2.axhline(y=mean, color='r')\n",
    "ax2.axhline(y=upper, linestyle='--', color='g')\n",
    "ax2.axhline(y=lower, linestyle='--', color='g')\n",
    "ax2.set_xlabel('iteration');"
   ]
  },
  {
   "cell_type": "code",
   "execution_count": 124,
   "metadata": {},
   "outputs": [
    {
     "ename": "NameError",
     "evalue": "name 'ternausNet16' is not defined",
     "output_type": "error",
     "traceback": [
      "\u001b[0;31m---------------------------------------------------------------------------\u001b[0m",
      "\u001b[0;31mNameError\u001b[0m                                 Traceback (most recent call last)",
      "\u001b[0;32m<ipython-input-124-91e6cd586b98>\u001b[0m in \u001b[0;36m<module>\u001b[0;34m\u001b[0m\n\u001b[0;32m----> 1\u001b[0;31m \u001b[0mhists_ternaus_slow\u001b[0m \u001b[0;34m=\u001b[0m \u001b[0mfast_test\u001b[0m\u001b[0;34m(\u001b[0m\u001b[0mternausNet16\u001b[0m\u001b[0;34m,\u001b[0m \u001b[0;36m10\u001b[0m\u001b[0;34m,\u001b[0m \u001b[0;36m1000\u001b[0m\u001b[0;34m,\u001b[0m \u001b[0mepochs\u001b[0m\u001b[0;34m=\u001b[0m\u001b[0;36m1\u001b[0m\u001b[0;34m,\u001b[0m \u001b[0mlr\u001b[0m\u001b[0;34m=\u001b[0m\u001b[0;36m1e-4\u001b[0m\u001b[0;34m)\u001b[0m\u001b[0;34m\u001b[0m\u001b[0;34m\u001b[0m\u001b[0m\n\u001b[0m",
      "\u001b[0;31mNameError\u001b[0m: name 'ternausNet16' is not defined"
     ]
    }
   ],
   "source": [
    "hists_ternaus_slow = fast_test(ternausNet16, 10, 1000, epochs=1, lr=1e-4)"
   ]
  },
  {
   "cell_type": "markdown",
   "metadata": {},
   "source": [
    "## Ternaus Net"
   ]
  },
  {
   "cell_type": "code",
   "execution_count": 99,
   "metadata": {},
   "outputs": [],
   "source": [
    "model = ternausNet16(input_size=(256, 256, 1))"
   ]
  },
  {
   "cell_type": "code",
   "execution_count": 101,
   "metadata": {},
   "outputs": [],
   "source": [
    "model.compile(optimizer = Adam(lr=1e-4), loss='binary_crossentropy', metrics=['accuracy'])"
   ]
  },
  {
   "cell_type": "code",
   "execution_count": 102,
   "metadata": {},
   "outputs": [
    {
     "name": "stdout",
     "output_type": "stream",
     "text": [
      "Epoch 1/5\n",
      "Found 30 images belonging to 1 classes.\n",
      "Found 30 images belonging to 1 classes.\n",
      "2000/2000 [==============================] - 409s 205ms/step - loss: 0.3079 - acc: 0.9330\n",
      "Epoch 2/5\n",
      "2000/2000 [==============================] - 404s 202ms/step - loss: 0.1859 - acc: 0.9594\n",
      "Epoch 3/5\n",
      "2000/2000 [==============================] - 404s 202ms/step - loss: 0.1514 - acc: 0.9670\n",
      "Epoch 4/5\n",
      "2000/2000 [==============================] - 403s 202ms/step - loss: 0.1338 - acc: 0.9708\n",
      "Epoch 5/5\n",
      "2000/2000 [==============================] - 403s 201ms/step - loss: 0.1219 - acc: 0.9734\n"
     ]
    }
   ],
   "source": [
    "history = model.fit_generator(train_gen, steps_per_epoch=2000, epochs=5)"
   ]
  },
  {
   "cell_type": "code",
   "execution_count": 122,
   "metadata": {},
   "outputs": [],
   "source": [
    "ternaus_2000_5_df = pd.DataFrame(history.history)\n",
    "ternaus_file = f'{results_pth}ternaus_2000_5.csv'\n",
    "ternaus_2000_5_df.to_csv(ternaus_file)"
   ]
  },
  {
   "cell_type": "code",
   "execution_count": 123,
   "metadata": {},
   "outputs": [
    {
     "data": {
      "image/png": "[encoded data removed]",
      "text/plain": [
       "<Figure size 432x288 with 1 Axes>"
      ]
     },
     "metadata": {
      "needs_background": "light"
     },
     "output_type": "display_data"
    }
   ],
   "source": [
    "df = pd.read_csv(ternaus_file)\n",
    "x = df.index\n",
    "plt.plot(x, df['acc']);"
   ]
  },
  {
   "cell_type": "code",
   "execution_count": null,
   "metadata": {},
   "outputs": [],
   "source": []
  }
 ],
 "metadata": {
  "kernelspec": {
   "display_name": "Python 3",
   "language": "python",
   "name": "python3"
  },
  "language_info": {
   "codemirror_mode": {
    "name": "ipython",
    "version": 3
   },
   "file_extension": ".py",
   "mimetype": "text/x-python",
   "name": "python",
   "nbconvert_exporter": "python",
   "pygments_lexer": "ipython3",
   "version": "3.6.8"
  }
 },
 "nbformat": 4,
 "nbformat_minor": 2
}
